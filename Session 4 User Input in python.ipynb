{
 "cells": [
  {
   "cell_type": "markdown",
   "metadata": {},
   "source": [
    "## Basic User Input In Python"
   ]
  },
  {
   "cell_type": "code",
   "execution_count": 13,
   "metadata": {},
   "outputs": [],
   "source": [
    "def tempcheck(temperature):\n",
    "    if temperature > 25:\n",
    "        return \"Hot\"\n",
    "    elif 25 >= temperature >= 15:\n",
    "        return \"Warm\"\n",
    "    else:\n",
    "        return \"Cold\""
   ]
  },
  {
   "cell_type": "code",
   "execution_count": 14,
   "metadata": {},
   "outputs": [
    {
     "name": "stdout",
     "output_type": "stream",
     "text": [
      "Cold\n"
     ]
    }
   ],
   "source": [
    "print(tempcheck(7))"
   ]
  },
  {
   "cell_type": "code",
   "execution_count": 18,
   "metadata": {},
   "outputs": [
    {
     "name": "stdout",
     "output_type": "stream",
     "text": [
      "Enter the tempreture:7\n",
      "Cold\n"
     ]
    }
   ],
   "source": [
    "temp=int(input(\"Enter the tempreture:\"))\n",
    "print(tempcheck(temp))"
   ]
  },
  {
   "cell_type": "code",
   "execution_count": 7,
   "metadata": {},
   "outputs": [
    {
     "name": "stdout",
     "output_type": "stream",
     "text": [
      "Enter the tempreture:6\n",
      "<class 'float'>\n"
     ]
    }
   ],
   "source": [
    "temp=float(input(\"Enter the tempreture:\"))\n",
    "print(type(temp))"
   ]
  },
  {
   "cell_type": "code",
   "execution_count": 5,
   "metadata": {},
   "outputs": [
    {
     "name": "stdout",
     "output_type": "stream",
     "text": [
      "Enter the tempreture:6\n",
      "Cold\n"
     ]
    }
   ],
   "source": [
    "temp=float(input(\"Enter the tempreture:\"))\n",
    "print(tempcheck(temp))"
   ]
  },
  {
   "cell_type": "markdown",
   "metadata": {},
   "source": [
    "## String Formatting"
   ]
  },
  {
   "cell_type": "code",
   "execution_count": 19,
   "metadata": {},
   "outputs": [
    {
     "name": "stdout",
     "output_type": "stream",
     "text": [
      "enter your name:tabrej\n",
      "Hello tabrej\n"
     ]
    }
   ],
   "source": [
    "user_input=input(\"enter your name:\")\n",
    "msg=\"Hello %s\" % user_input\n",
    "print(msg)"
   ]
  },
  {
   "cell_type": "code",
   "execution_count": 20,
   "metadata": {},
   "outputs": [
    {
     "name": "stdout",
     "output_type": "stream",
     "text": [
      "enter your name:tabrej\n",
      "Hello tabrej\n"
     ]
    }
   ],
   "source": [
    "user_input=input(\"enter your name:\")\n",
    "msg=f\"Hello {user_input}\"\n",
    "print(msg)"
   ]
  },
  {
   "cell_type": "code",
   "execution_count": 21,
   "metadata": {},
   "outputs": [
    {
     "name": "stdout",
     "output_type": "stream",
     "text": [
      "Enter your name:tabrej\n",
      "Hi tabrej\n"
     ]
    }
   ],
   "source": [
    "def message(name):\n",
    "    return \"Hi {}\".format(name)\n",
    "\n",
    "name=input(\"Enter your name:\")\n",
    "print(message(name))"
   ]
  },
  {
   "cell_type": "code",
   "execution_count": 22,
   "metadata": {},
   "outputs": [
    {
     "name": "stdout",
     "output_type": "stream",
     "text": [
      "Enter your name:tabrej\n",
      "Hi Tabrej\n"
     ]
    }
   ],
   "source": [
    "def message1(name):\n",
    "    return \"Hi {}\".format(name.title())\n",
    "name=input(\"Enter your name:\")\n",
    "print(message1(name))"
   ]
  },
  {
   "cell_type": "code",
   "execution_count": null,
   "metadata": {},
   "outputs": [],
   "source": []
  }
 ],
 "metadata": {
  "kernelspec": {
   "display_name": "Python 3",
   "language": "python",
   "name": "python3"
  },
  "language_info": {
   "codemirror_mode": {
    "name": "ipython",
    "version": 3
   },
   "file_extension": ".py",
   "mimetype": "text/x-python",
   "name": "python",
   "nbconvert_exporter": "python",
   "pygments_lexer": "ipython3",
   "version": "3.7.6"
  }
 },
 "nbformat": 4,
 "nbformat_minor": 4
}
